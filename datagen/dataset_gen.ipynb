{
 "cells": [
  {
   "cell_type": "code",
   "execution_count": 1,
   "id": "2e834520-635c-464a-bfda-27117e91eb54",
   "metadata": {},
   "outputs": [],
   "source": [
    "import logging\n",
    "import random\n",
    "import json\n",
    "import os\n",
    "\n",
    "from prompts import description_sys_prompt, nl_sys_prompt\n",
    "from datasets import load_dataset\n",
    "from dotenv import load_dotenv\n",
    "from typing import TextIO\n",
    "from openai import OpenAI\n",
    "from time import sleep\n"
   ]
  },
  {
   "cell_type": "code",
   "execution_count": 2,
   "id": "deb9d8ab-ce1a-4ac3-9b64-adff64705c7d",
   "metadata": {},
   "outputs": [],
   "source": [
    "logger = logging.getLogger(\"datagen\")\n",
    "logger.setLevel(logging.INFO)\n",
    "logging.basicConfig(filename=\"datagen.log\", encoding=\"utf-8\", level=logging.INFO)"
   ]
  },
  {
   "cell_type": "code",
   "execution_count": 3,
   "id": "f57e7436-e7b2-4c23-864e-e406c7f99894",
   "metadata": {},
   "outputs": [],
   "source": [
    "load_dotenv()\n",
    "client = OpenAI(\n",
    "    api_key=os.getenv(\"TOGETHER_API_KEY\"),\n",
    "    base_url=\"https://api.together.xyz/v1\"\n",
    ")"
   ]
  },
  {
   "cell_type": "code",
   "execution_count": 4,
   "id": "e3ad912e-0e91-4445-bd08-c80cc7950982",
   "metadata": {},
   "outputs": [],
   "source": [
    "# data = load_dataset(\"OleehyO/latex-formulas\", data_files=\"cleaned_formulas/train-00000-of-00006.parquet\") "
   ]
  },
  {
   "cell_type": "code",
   "execution_count": 5,
   "id": "dd611aa5-53dc-4e57-8b81-22df1035eefe",
   "metadata": {},
   "outputs": [],
   "source": [
    "def generate_instruction(latex_eqn: str, sys_prompt: str):\n",
    "    \"\"\"Generate description given a LaTeX equation and a system prompt describing the style of 'description' required.\"\"\"\n",
    "    logger.info(\" [LLM] Sending request to LLM\")\n",
    "    res = client.chat.completions.create(\n",
    "        model=\"meta-llama/Meta-Llama-3.1-70B-Instruct-Turbo\",\n",
    "        messages=[\n",
    "            {\"role\": \"system\", \"content\": sys_prompt},\n",
    "            {\"role\": \"user\", \"content\": latex_eqn},\n",
    "        ]\n",
    "    )\n",
    "    logger.info(\" [LLM] Received response from LLM\")\n",
    "    return res.choices[0].message.content"
   ]
  },
  {
   "cell_type": "code",
   "execution_count": 6,
   "id": "ad89e810-6798-4f29-8af4-92aeae1ef681",
   "metadata": {},
   "outputs": [],
   "source": [
    "def save_data(qn: str, ans: str, ans_type: str, data_file: TextIO):\n",
    "    \"\"\"Save the dataset in the instruction answer pair format.\"\"\"\n",
    "    logger.info(f\" [DATA_PERSIST] Persisting data of type {ans_type}\")\n",
    "    dict_obj = {\"qn\": qn, \"ans\": ans, \"type\": ans_type}\n",
    "    json.dump(dict_obj, data_file, ensure_ascii=False)\n",
    "    data_file.write('\\n')\n",
    "    logger.info(f\" [DATA_PERSIST] Successfully persisted data of type {ans_type}\")"
   ]
  },
  {
   "cell_type": "code",
   "execution_count": 7,
   "id": "1df7c417-a159-4ab3-b4ca-72c597e1a359",
   "metadata": {},
   "outputs": [],
   "source": [
    "def create_instruction_data(eqn_file: str, data_file: str):\n",
    "    \"\"\"Create instruction dataset given a LaTeX equations filepath and a output path.\"\"\"\n",
    "    eqn_file = open(eqn_file, 'r')\n",
    "    data_file = open(data_file, 'a')\n",
    "    \n",
    "    for i, line in enumerate(eqn_file):\n",
    "        logger.info(f\" [DATA_GEN] Starting generation for line {i+1} type 'desc'\")\n",
    "        desc = generate_instruction(line, description_sys_prompt)\n",
    "        save_data(desc, line, \"desc\", data_file)\n",
    "        logger.info(f\" [DATA_GEN] Finished generation for line {i+1} type 'desc'\")\n",
    "\n",
    "        logger.info(f\" [DATA_GEN] Starting generation for line {i+1} type 'nl'\")\n",
    "        nl = generate_instruction(line, nl_sys_prompt)\n",
    "        save_data(nl, line, \"nl\", data_file)\n",
    "        logger.info(f\" [DATA_GEN] Finished generation for line {i+1} type 'nl'\")\n",
    "\n",
    "        sleep(1)\n",
    "        \n",
    "        if i+1 == 20:\n",
    "            break\n",
    "    eqn_file.close()\n",
    "    data_file.close()"
   ]
  },
  {
   "cell_type": "code",
   "execution_count": 8,
   "id": "f3cc0c9b-5878-47c8-ab9b-534c0a6b4c2f",
   "metadata": {
    "scrolled": true
   },
   "outputs": [],
   "source": [
    "create_instruction_data(\"sample.txt\", \"data.jsonl\")"
   ]
  },
  {
   "cell_type": "code",
   "execution_count": null,
   "id": "19cb47a8-6916-4868-8f99-e353435e226a",
   "metadata": {},
   "outputs": [],
   "source": []
  }
 ],
 "metadata": {
  "kernelspec": {
   "display_name": "Python 3 (ipykernel)",
   "language": "python",
   "name": "python3"
  },
  "language_info": {
   "codemirror_mode": {
    "name": "ipython",
    "version": 3
   },
   "file_extension": ".py",
   "mimetype": "text/x-python",
   "name": "python",
   "nbconvert_exporter": "python",
   "pygments_lexer": "ipython3",
   "version": "3.12.6"
  }
 },
 "nbformat": 4,
 "nbformat_minor": 5
}
